{
 "cells": [
  {
   "cell_type": "markdown",
   "id": "3ac9bbf0",
   "metadata": {},
   "source": [
    "## PatientInfo.csv\n",
    "\n",
    "**patient_id**\n",
    "the ID of the patient\n",
    "\n",
    "**sex**\n",
    "the sex of the patient\n",
    "\n",
    "**age**\n",
    "the age of the patient\n",
    "\n",
    "**country**\n",
    "the country of the patient\n",
    "\n",
    "**province**\n",
    "the province of the patient\n",
    "\n",
    "**city**\n",
    "the city of the patient\n",
    "\n",
    "**infection_case**\n",
    "the case of infection\n",
    "\n",
    "**infected_by**\n",
    "the ID of who infected the patient\n",
    "\n",
    "\n",
    "**contact_number**\n",
    "the number of contacts with people\n",
    "\n",
    "**symptom_onset_date**\n",
    "the date of symptom onset\n",
    "\n",
    "**confirmed_date**\n",
    "the date of being confirmed\n",
    "\n",
    "**released_date**\n",
    "the date of being released\n",
    "\n",
    "**deceased_date**\n",
    "the date of being deceased\n",
    "\n",
    "**state**\n",
    "isolated / released / deceased"
   ]
  },
  {
   "cell_type": "markdown",
   "id": "34b6f619",
   "metadata": {},
   "source": [
    "### Import the pyspark and check it's version"
   ]
  },
  {
   "cell_type": "code",
   "execution_count": 196,
   "id": "29fe2ddc",
   "metadata": {},
   "outputs": [
    {
     "data": {
      "text/html": [
       "\n",
       "        <div>\n",
       "            <p><b>SparkContext</b></p>\n",
       "\n",
       "            <p><a href=\"http://192.168.159.140:4043\">Spark UI</a></p>\n",
       "\n",
       "            <dl>\n",
       "              <dt>Version</dt>\n",
       "                <dd><code>v3.5.1</code></dd>\n",
       "              <dt>Master</dt>\n",
       "                <dd><code>local[*]</code></dd>\n",
       "              <dt>AppName</dt>\n",
       "                <dd><code>PySparkShell</code></dd>\n",
       "            </dl>\n",
       "        </div>\n",
       "        "
      ],
      "text/plain": [
       "<SparkContext master=local[*] appName=PySparkShell>"
      ]
     },
     "execution_count": 196,
     "metadata": {},
     "output_type": "execute_result"
    }
   ],
   "source": [
    "import pyspark\n",
    "sc"
   ]
  },
  {
   "cell_type": "markdown",
   "id": "70c0fc8e",
   "metadata": {},
   "source": [
    "### Import and create SparkSession"
   ]
  },
  {
   "cell_type": "code",
   "execution_count": 197,
   "id": "94904228",
   "metadata": {},
   "outputs": [],
   "source": [
    "import pyspark\n",
    "from pyspark.sql import SparkSession\n",
    "spark = SparkSession.builder.getOrCreate()"
   ]
  },
  {
   "cell_type": "markdown",
   "id": "7356d68d",
   "metadata": {},
   "source": [
    "### Load the PatientInfo.csv file and show the first 5 rows"
   ]
  },
  {
   "cell_type": "code",
   "execution_count": 198,
   "id": "d5185728",
   "metadata": {},
   "outputs": [
    {
     "data": {
      "text/html": [
       "<style>pre { white-space: pre !important; }</style>"
      ],
      "text/plain": [
       "<IPython.core.display.HTML object>"
      ]
     },
     "metadata": {},
     "output_type": "display_data"
    }
   ],
   "source": [
    "from IPython.display import display, HTML\n",
    "display(HTML(\"<style>pre { white-space: pre !important; }</style>\"))"
   ]
  },
  {
   "cell_type": "code",
   "execution_count": 199,
   "id": "40905d6f-33de-4548-bf66-ecf95686c673",
   "metadata": {},
   "outputs": [],
   "source": [
    "from pyspark.sql.functions import *\n",
    "import pyspark.sql.functions as fn\n",
    "from pyspark.sql.types import *"
   ]
  },
  {
   "cell_type": "code",
   "execution_count": 274,
   "id": "2196bca5",
   "metadata": {},
   "outputs": [
    {
     "name": "stdout",
     "output_type": "stream",
     "text": [
      "+----------+------+---+-------+--------+------------+--------------------+-----------+--------------+------------------+--------------+-------------+-------------+--------+\n",
      "|patient_id|   sex|age|country|province|        city|      infection_case|infected_by|contact_number|symptom_onset_date|confirmed_date|released_date|deceased_date|   state|\n",
      "+----------+------+---+-------+--------+------------+--------------------+-----------+--------------+------------------+--------------+-------------+-------------+--------+\n",
      "|1000000001|  male|50s|  Korea|   Seoul|  Gangseo-gu|     overseas inflow|       NULL|            75|        2020-01-22|    2020-01-23|   2020-02-05|         NULL|released|\n",
      "|1000000002|  male|30s|  Korea|   Seoul| Jungnang-gu|     overseas inflow|       NULL|            31|              NULL|    2020-01-30|   2020-03-02|         NULL|released|\n",
      "|1000000003|  male|50s|  Korea|   Seoul|   Jongno-gu|contact with patient| 2002000001|            17|              NULL|    2020-01-30|   2020-02-19|         NULL|released|\n",
      "|1000000004|  male|20s|  Korea|   Seoul|     Mapo-gu|     overseas inflow|       NULL|             9|        2020-01-26|    2020-01-30|   2020-02-15|         NULL|released|\n",
      "|1000000005|female|20s|  Korea|   Seoul| Seongbuk-gu|contact with patient| 1000000002|             2|              NULL|    2020-01-31|   2020-02-24|         NULL|released|\n",
      "|1000000006|female|50s|  Korea|   Seoul|   Jongno-gu|contact with patient| 1000000003|            43|              NULL|    2020-01-31|   2020-02-19|         NULL|released|\n",
      "|1000000007|  male|20s|  Korea|   Seoul|   Jongno-gu|contact with patient| 1000000003|             0|              NULL|    2020-01-31|   2020-02-10|         NULL|released|\n",
      "|1000000008|  male|20s|  Korea|   Seoul|         etc|     overseas inflow|       NULL|             0|              NULL|    2020-02-02|   2020-02-24|         NULL|released|\n",
      "|1000000009|  male|30s|  Korea|   Seoul|   Songpa-gu|     overseas inflow|       NULL|            68|              NULL|    2020-02-05|   2020-02-21|         NULL|released|\n",
      "|1000000010|female|60s|  Korea|   Seoul| Seongbuk-gu|contact with patient| 1000000003|             6|              NULL|    2020-02-05|   2020-02-29|         NULL|released|\n",
      "|1000000011|female|50s|  China|   Seoul|Seodaemun-gu|     overseas inflow|       NULL|            23|              NULL|    2020-02-06|   2020-02-29|         NULL|released|\n",
      "|1000000012|  male|20s|  Korea|   Seoul|         etc|     overseas inflow|       NULL|             0|              NULL|    2020-02-07|   2020-02-27|         NULL|released|\n",
      "|1000000013|  male|80s|  Korea|   Seoul|   Jongno-gu|contact with patient| 1000000017|           117|              NULL|    2020-02-16|         NULL|         NULL|deceased|\n",
      "|1000000014|female|60s|  Korea|   Seoul|   Jongno-gu|contact with patient| 1000000013|            27|        2020-02-06|    2020-02-16|   2020-03-12|         NULL|released|\n",
      "|1000000015|  male|70s|  Korea|   Seoul|Seongdong-gu|    Seongdong-gu APT|       NULL|             8|        2020-02-11|    2020-02-19|         NULL|         NULL|released|\n",
      "|1000000016|  male|70s|  Korea|   Seoul|   Jongno-gu|contact with patient| 1000000017|          NULL|              NULL|    2020-02-19|   2020-03-11|         NULL|released|\n",
      "|1000000017|  male|70s|  Korea|   Seoul|   Jongno-gu|contact with patient| 1000000003|          NULL|              NULL|    2020-02-20|   2020-03-01|         NULL|released|\n",
      "|1000000018|  male|20s|  Korea|   Seoul|         etc|                 etc|       NULL|          NULL|              NULL|    2020-02-20|         NULL|         NULL|released|\n",
      "|1000000019|female|70s|  Korea|   Seoul|   Jongno-gu|contact with patient| 1000000021|          NULL|              NULL|    2020-02-20|   2020-03-08|         NULL|released|\n",
      "|1000000020|female|70s|  Korea|   Seoul|Seongdong-gu|    Seongdong-gu APT| 1000000015|          NULL|              NULL|    2020-02-20|         NULL|         NULL|released|\n",
      "+----------+------+---+-------+--------+------------+--------------------+-----------+--------------+------------------+--------------+-------------+-------------+--------+\n",
      "only showing top 20 rows\n",
      "\n"
     ]
    }
   ],
   "source": [
    "df = spark.read.csv('PatientInfo.csv',header=True,inferSchema=True)\n",
    "df.show(20)"
   ]
  },
  {
   "cell_type": "markdown",
   "id": "4d43bdca",
   "metadata": {},
   "source": [
    "### Display the schema of the dataset"
   ]
  },
  {
   "cell_type": "code",
   "execution_count": 201,
   "id": "c51a2507",
   "metadata": {},
   "outputs": [
    {
     "name": "stdout",
     "output_type": "stream",
     "text": [
      "root\n",
      " |-- patient_id: long (nullable = true)\n",
      " |-- sex: string (nullable = true)\n",
      " |-- age: string (nullable = true)\n",
      " |-- country: string (nullable = true)\n",
      " |-- province: string (nullable = true)\n",
      " |-- city: string (nullable = true)\n",
      " |-- infection_case: string (nullable = true)\n",
      " |-- infected_by: string (nullable = true)\n",
      " |-- contact_number: string (nullable = true)\n",
      " |-- symptom_onset_date: string (nullable = true)\n",
      " |-- confirmed_date: date (nullable = true)\n",
      " |-- released_date: date (nullable = true)\n",
      " |-- deceased_date: date (nullable = true)\n",
      " |-- state: string (nullable = true)\n",
      "\n"
     ]
    }
   ],
   "source": [
    "df.printSchema()"
   ]
  },
  {
   "cell_type": "markdown",
   "id": "3114e1dd",
   "metadata": {},
   "source": [
    "### Display the statistical summary"
   ]
  },
  {
   "cell_type": "code",
   "execution_count": 202,
   "id": "18d63947",
   "metadata": {},
   "outputs": [
    {
     "name": "stderr",
     "output_type": "stream",
     "text": [
      "[Stage 306:>                                                        (0 + 1) / 1]\r"
     ]
    },
    {
     "name": "stdout",
     "output_type": "stream",
     "text": [
      "+-------+--------------------+------+----+----------+--------+--------------+--------------------+--------------------+--------------------+------------------+--------+\n",
      "|summary|          patient_id|   sex| age|   country|province|          city|      infection_case|         infected_by|      contact_number|symptom_onset_date|   state|\n",
      "+-------+--------------------+------+----+----------+--------+--------------+--------------------+--------------------+--------------------+------------------+--------+\n",
      "|  count|                5165|  4043|3785|      5165|    5165|          5071|                4246|                1346|                 791|               690|    5165|\n",
      "|   mean|2.8636345618679576E9|  NULL|NULL|      NULL|    NULL|          NULL|                NULL|2.2845944015643125E9|1.6772572523506988E7|              NULL|    NULL|\n",
      "| stddev| 2.074210725277473E9|  NULL|NULL|      NULL|    NULL|          NULL|                NULL|1.5265072953383324E9| 3.093097580985502E8|              NULL|    NULL|\n",
      "|    min|          1000000001|female|  0s|Bangladesh|   Busan|     Andong-si|Anyang Gunpo Past...|          1000000002|                   -|                  |deceased|\n",
      "|    max|          7000000019|  male| 90s|   Vietnam|   Ulsan|sankyeock-dong|     overseas inflow|          7000000009|                  95|        2020-06-28|released|\n",
      "+-------+--------------------+------+----+----------+--------+--------------+--------------------+--------------------+--------------------+------------------+--------+\n",
      "\n"
     ]
    },
    {
     "name": "stderr",
     "output_type": "stream",
     "text": [
      "                                                                                \r"
     ]
    }
   ],
   "source": [
    "df.describe().show()"
   ]
  },
  {
   "cell_type": "markdown",
   "id": "c78859b9",
   "metadata": {},
   "source": [
    "### Using the state column.\n",
    "### How many people survived (released), and how many didn't survive (isolated/deceased)?"
   ]
  },
  {
   "cell_type": "code",
   "execution_count": 203,
   "id": "f1e3b2be-668a-4888-9315-48ef4e5029b6",
   "metadata": {},
   "outputs": [
    {
     "name": "stdout",
     "output_type": "stream",
     "text": [
      "+--------+-----+\n",
      "|   state|count|\n",
      "+--------+-----+\n",
      "|isolated| 2158|\n",
      "|released| 2929|\n",
      "|deceased|   78|\n",
      "+--------+-----+\n",
      "\n"
     ]
    }
   ],
   "source": [
    "df.groupBy('state').count().show()"
   ]
  },
  {
   "cell_type": "markdown",
   "id": "59c16346",
   "metadata": {},
   "source": [
    "### Display the number of null values in each column"
   ]
  },
  {
   "cell_type": "code",
   "execution_count": 204,
   "id": "4adc0ab6",
   "metadata": {},
   "outputs": [
    {
     "name": "stdout",
     "output_type": "stream",
     "text": [
      "+----------+----+----+-------+--------+----+--------------+-----------+--------------+------------------+--------------+-------------+-------------+-----+\n",
      "|patient_id| sex| age|country|province|city|infection_case|infected_by|contact_number|symptom_onset_date|confirmed_date|released_date|deceased_date|state|\n",
      "+----------+----+----+-------+--------+----+--------------+-----------+--------------+------------------+--------------+-------------+-------------+-----+\n",
      "|         0|1122|1380|      0|       0|  94|           919|       3819|          4374|              4475|             3|         3578|         5099|    0|\n",
      "+----------+----+----+-------+--------+----+--------------+-----------+--------------+------------------+--------------+-------------+-------------+-----+\n",
      "\n"
     ]
    }
   ],
   "source": [
    "df.select([fn.count(when(col(x).isNull(), x)).alias(x) for x in df.columns]).show()"
   ]
  },
  {
   "cell_type": "markdown",
   "id": "c3133f5a",
   "metadata": {},
   "source": [
    "## Data preprocessing"
   ]
  },
  {
   "cell_type": "markdown",
   "id": "ec32fa0c",
   "metadata": {},
   "source": [
    "### Fill the nulls in the deceased_date with the released_date. \n",
    "- You can use <b>coalesce</b> function"
   ]
  },
  {
   "cell_type": "code",
   "execution_count": 275,
   "id": "d5ba64f9",
   "metadata": {},
   "outputs": [
    {
     "name": "stdout",
     "output_type": "stream",
     "text": [
      "+-------------+-------------+\n",
      "|deceased_date|released_date|\n",
      "+-------------+-------------+\n",
      "|   2020-02-05|   2020-02-05|\n",
      "|   2020-03-02|   2020-03-02|\n",
      "|   2020-02-19|   2020-02-19|\n",
      "|   2020-02-15|   2020-02-15|\n",
      "|   2020-02-24|   2020-02-24|\n",
      "|   2020-02-19|   2020-02-19|\n",
      "|   2020-02-10|   2020-02-10|\n",
      "|   2020-02-24|   2020-02-24|\n",
      "|   2020-02-21|   2020-02-21|\n",
      "|   2020-02-29|   2020-02-29|\n",
      "|   2020-02-29|   2020-02-29|\n",
      "|   2020-02-27|   2020-02-27|\n",
      "|         NULL|         NULL|\n",
      "|   2020-03-12|   2020-03-12|\n",
      "|         NULL|         NULL|\n",
      "|   2020-03-11|   2020-03-11|\n",
      "|   2020-03-01|   2020-03-01|\n",
      "|         NULL|         NULL|\n",
      "|   2020-03-08|   2020-03-08|\n",
      "|         NULL|         NULL|\n",
      "+-------------+-------------+\n",
      "only showing top 20 rows\n",
      "\n"
     ]
    }
   ],
   "source": [
    "filled_df = df.withColumn('deceased_date', fn.coalesce(col('deceased_date'),\\\n",
    "                                                       col('released_date')))\n",
    "filled_df.select('deceased_date','released_date').show()"
   ]
  },
  {
   "cell_type": "markdown",
   "id": "4ec324f5",
   "metadata": {},
   "source": [
    "### Add a column named no_days which is difference between the deceased_date and the confirmed_date then show the top 5 rows. Print the schema.\n",
    "- <b> Hint: You need to typecast these columns as date first <b>"
   ]
  },
  {
   "cell_type": "code",
   "execution_count": 276,
   "id": "d065e472",
   "metadata": {},
   "outputs": [
    {
     "name": "stdout",
     "output_type": "stream",
     "text": [
      "+-------------+--------------+-------+\n",
      "|deceased_date|confirmed_date|no_days|\n",
      "+-------------+--------------+-------+\n",
      "|   2020-02-05|    2020-01-23|     13|\n",
      "|   2020-03-02|    2020-01-30|     32|\n",
      "|   2020-02-19|    2020-01-30|     20|\n",
      "|   2020-02-15|    2020-01-30|     16|\n",
      "|   2020-02-24|    2020-01-31|     24|\n",
      "+-------------+--------------+-------+\n",
      "only showing top 5 rows\n",
      "\n",
      "root\n",
      " |-- patient_id: long (nullable = true)\n",
      " |-- sex: string (nullable = true)\n",
      " |-- age: string (nullable = true)\n",
      " |-- country: string (nullable = true)\n",
      " |-- province: string (nullable = true)\n",
      " |-- city: string (nullable = true)\n",
      " |-- infection_case: string (nullable = true)\n",
      " |-- infected_by: string (nullable = true)\n",
      " |-- contact_number: string (nullable = true)\n",
      " |-- symptom_onset_date: string (nullable = true)\n",
      " |-- confirmed_date: date (nullable = true)\n",
      " |-- released_date: date (nullable = true)\n",
      " |-- deceased_date: date (nullable = true)\n",
      " |-- state: string (nullable = true)\n",
      " |-- no_days: integer (nullable = true)\n",
      "\n"
     ]
    }
   ],
   "source": [
    "type_cast_df = filled_df.withColumn('deceased_date', fn.to_date('deceased_date', 'yyyy-MM-dd')) \\\n",
    "                        .withColumn('confirmed_date', fn.to_date('confirmed_date', 'yyyy-MM-dd'))\n",
    "\n",
    "diff_df = type_cast_df.withColumn('no_days', fn.datediff('deceased_date', 'confirmed_date'))\n",
    "\n",
    "diff_df.select('deceased_date','confirmed_date','no_days').show(5)\n",
    "diff_df.printSchema()"
   ]
  },
  {
   "cell_type": "markdown",
   "id": "967b2466",
   "metadata": {},
   "source": [
    "### Remove null values of sex column.\n",
    "### Add a is_male column if male then it should yield true, else (Female) then False"
   ]
  },
  {
   "cell_type": "code",
   "execution_count": 277,
   "id": "1decb871-09ce-4902-b9b0-5bb88f3722b5",
   "metadata": {
    "scrolled": true
   },
   "outputs": [
    {
     "name": "stdout",
     "output_type": "stream",
     "text": [
      "+------+-------+\n",
      "|   sex|is_male|\n",
      "+------+-------+\n",
      "|  male|   true|\n",
      "|  male|   true|\n",
      "|  male|   true|\n",
      "|  male|   true|\n",
      "|female|  false|\n",
      "+------+-------+\n",
      "only showing top 5 rows\n",
      "\n"
     ]
    }
   ],
   "source": [
    "filtered_df = diff_df.filter(col('sex').isNotNull())\n",
    "sex_df = filtered_df.withColumn('is_male', fn.when(col('sex') == 'male', True).otherwise(False))\n",
    "sex_df.select('sex','is_male').show(5)"
   ]
  },
  {
   "cell_type": "markdown",
   "id": "8603d7c0",
   "metadata": {},
   "source": [
    "### Add a is_dead column if patient state is not released then it should yield true, else then False\n",
    "\n",
    "- Use <b>UDF</b> to perform this task. \n",
    "- However, UDF is not recommended there is no built in function can do the required operation.\n",
    "- UDF is slower than built in functions."
   ]
  },
  {
   "cell_type": "code",
   "execution_count": 254,
   "id": "5205cf17-8f27-4e90-b075-7817ad07ccda",
   "metadata": {},
   "outputs": [],
   "source": [
    "from pyspark.sql.functions import udf\n",
    "def map_patient_state(state):\n",
    "    return state != \"released\""
   ]
  },
  {
   "cell_type": "code",
   "execution_count": 255,
   "id": "af5d0a89-04c9-4f2b-8e07-39fbf10b0802",
   "metadata": {},
   "outputs": [],
   "source": [
    "map_patient_state_udf=udf(map_patient_state,BooleanType())"
   ]
  },
  {
   "cell_type": "code",
   "execution_count": 256,
   "id": "4c6e52ff-49a1-4535-a66c-463f47f4bbf1",
   "metadata": {},
   "outputs": [
    {
     "data": {
      "text/plain": [
       "True"
      ]
     },
     "execution_count": 256,
     "metadata": {},
     "output_type": "execute_result"
    }
   ],
   "source": [
    "map_patient_state('abdo')"
   ]
  },
  {
   "cell_type": "code",
   "execution_count": 266,
   "id": "18a6b745-558e-4da9-b832-1e4d3b801419",
   "metadata": {},
   "outputs": [
    {
     "name": "stdout",
     "output_type": "stream",
     "text": [
      "+----------+------+---+-------+--------+------------+--------------------+-----------+--------------+------------------+--------------+-------------+-------------+--------+-------+---------------+\n",
      "|patient_id|   sex|age|country|province|        city|      infection_case|infected_by|contact_number|symptom_onset_date|confirmed_date|released_date|deceased_date|   state|no_days|is_not_released|\n",
      "+----------+------+---+-------+--------+------------+--------------------+-----------+--------------+------------------+--------------+-------------+-------------+--------+-------+---------------+\n",
      "|1000000001|  male|50s|  Korea|   Seoul|  Gangseo-gu|     overseas inflow|       NULL|            75|        2020-01-22|    2020-01-23|   2020-02-05|   2020-02-05|released|     13|          false|\n",
      "|1000000002|  male|30s|  Korea|   Seoul| Jungnang-gu|     overseas inflow|       NULL|            31|              NULL|    2020-01-30|   2020-03-02|   2020-03-02|released|     32|          false|\n",
      "|1000000003|  male|50s|  Korea|   Seoul|   Jongno-gu|contact with patient| 2002000001|            17|              NULL|    2020-01-30|   2020-02-19|   2020-02-19|released|     20|          false|\n",
      "|1000000004|  male|20s|  Korea|   Seoul|     Mapo-gu|     overseas inflow|       NULL|             9|        2020-01-26|    2020-01-30|   2020-02-15|   2020-02-15|released|     16|          false|\n",
      "|1000000005|female|20s|  Korea|   Seoul| Seongbuk-gu|contact with patient| 1000000002|             2|              NULL|    2020-01-31|   2020-02-24|   2020-02-24|released|     24|          false|\n",
      "|1000000006|female|50s|  Korea|   Seoul|   Jongno-gu|contact with patient| 1000000003|            43|              NULL|    2020-01-31|   2020-02-19|   2020-02-19|released|     19|          false|\n",
      "|1000000007|  male|20s|  Korea|   Seoul|   Jongno-gu|contact with patient| 1000000003|             0|              NULL|    2020-01-31|   2020-02-10|   2020-02-10|released|     10|          false|\n",
      "|1000000008|  male|20s|  Korea|   Seoul|         etc|     overseas inflow|       NULL|             0|              NULL|    2020-02-02|   2020-02-24|   2020-02-24|released|     22|          false|\n",
      "|1000000009|  male|30s|  Korea|   Seoul|   Songpa-gu|     overseas inflow|       NULL|            68|              NULL|    2020-02-05|   2020-02-21|   2020-02-21|released|     16|          false|\n",
      "|1000000010|female|60s|  Korea|   Seoul| Seongbuk-gu|contact with patient| 1000000003|             6|              NULL|    2020-02-05|   2020-02-29|   2020-02-29|released|     24|          false|\n",
      "|1000000011|female|50s|  China|   Seoul|Seodaemun-gu|     overseas inflow|       NULL|            23|              NULL|    2020-02-06|   2020-02-29|   2020-02-29|released|     23|          false|\n",
      "|1000000012|  male|20s|  Korea|   Seoul|         etc|     overseas inflow|       NULL|             0|              NULL|    2020-02-07|   2020-02-27|   2020-02-27|released|     20|          false|\n",
      "|1000000013|  male|80s|  Korea|   Seoul|   Jongno-gu|contact with patient| 1000000017|           117|              NULL|    2020-02-16|         NULL|         NULL|deceased|   NULL|           true|\n",
      "|1000000014|female|60s|  Korea|   Seoul|   Jongno-gu|contact with patient| 1000000013|            27|        2020-02-06|    2020-02-16|   2020-03-12|   2020-03-12|released|     25|          false|\n",
      "|1000000015|  male|70s|  Korea|   Seoul|Seongdong-gu|    Seongdong-gu APT|       NULL|             8|        2020-02-11|    2020-02-19|         NULL|         NULL|released|   NULL|          false|\n",
      "|1000000016|  male|70s|  Korea|   Seoul|   Jongno-gu|contact with patient| 1000000017|          NULL|              NULL|    2020-02-19|   2020-03-11|   2020-03-11|released|     21|          false|\n",
      "|1000000017|  male|70s|  Korea|   Seoul|   Jongno-gu|contact with patient| 1000000003|          NULL|              NULL|    2020-02-20|   2020-03-01|   2020-03-01|released|     10|          false|\n",
      "|1000000018|  male|20s|  Korea|   Seoul|         etc|                 etc|       NULL|          NULL|              NULL|    2020-02-20|         NULL|         NULL|released|   NULL|          false|\n",
      "|1000000019|female|70s|  Korea|   Seoul|   Jongno-gu|contact with patient| 1000000021|          NULL|              NULL|    2020-02-20|   2020-03-08|   2020-03-08|released|     17|          false|\n",
      "|1000000020|female|70s|  Korea|   Seoul|Seongdong-gu|    Seongdong-gu APT| 1000000015|          NULL|              NULL|    2020-02-20|         NULL|         NULL|released|   NULL|          false|\n",
      "+----------+------+---+-------+--------+------------+--------------------+-----------+--------------+------------------+--------------+-------------+-------------+--------+-------+---------------+\n",
      "only showing top 20 rows\n",
      "\n"
     ]
    }
   ],
   "source": [
    "df_with_mapped_state = diff_df.withColumn(\"is_not_released\", map_patient_state(col(\"state\")))\n",
    "df_with_mapped_state.show()"
   ]
  },
  {
   "cell_type": "code",
   "execution_count": 278,
   "id": "d3343075",
   "metadata": {},
   "outputs": [
    {
     "name": "stdout",
     "output_type": "stream",
     "text": [
      "+--------+-------+\n",
      "|   state|is_dead|\n",
      "+--------+-------+\n",
      "|released|   true|\n",
      "|released|   true|\n",
      "|released|   true|\n",
      "|released|   true|\n",
      "|released|   true|\n",
      "|released|   true|\n",
      "|released|   true|\n",
      "|released|   true|\n",
      "|released|   true|\n",
      "|released|   true|\n",
      "|released|   true|\n",
      "|released|   true|\n",
      "|deceased|  false|\n",
      "|released|   true|\n",
      "|released|   true|\n",
      "+--------+-------+\n",
      "only showing top 15 rows\n",
      "\n"
     ]
    }
   ],
   "source": [
    "dead_df = sex_df.withColumn('is_dead', fn.when(col('state') == 'released', True).otherwise(False))\n",
    "dead_df.select('state','is_dead').show(15)"
   ]
  },
  {
   "cell_type": "markdown",
   "id": "e15264a9",
   "metadata": {},
   "source": [
    "### Change the ages to bins from 10s, 0s, 10s, 20s,.etc to 0,10, 20"
   ]
  },
  {
   "cell_type": "code",
   "execution_count": 279,
   "id": "7a2b57ed",
   "metadata": {},
   "outputs": [
    {
     "name": "stdout",
     "output_type": "stream",
     "text": [
      "+---+\n",
      "|age|\n",
      "+---+\n",
      "| 50|\n",
      "| 30|\n",
      "| 50|\n",
      "| 20|\n",
      "| 20|\n",
      "+---+\n",
      "only showing top 5 rows\n",
      "\n"
     ]
    }
   ],
   "source": [
    "suffix_adj_df = dead_df.withColumn('age', fn.regexp_replace(col('age'), 's$', ''))\n",
    "suffix_adj_df.select('age').show(5)"
   ]
  },
  {
   "cell_type": "markdown",
   "id": "43cdf846",
   "metadata": {},
   "source": [
    "### Change age, and no_days  to be typecasted as Double"
   ]
  },
  {
   "cell_type": "code",
   "execution_count": 280,
   "id": "dfea7fcb",
   "metadata": {},
   "outputs": [
    {
     "name": "stdout",
     "output_type": "stream",
     "text": [
      "root\n",
      " |-- patient_id: long (nullable = true)\n",
      " |-- sex: string (nullable = true)\n",
      " |-- age: double (nullable = true)\n",
      " |-- country: string (nullable = true)\n",
      " |-- province: string (nullable = true)\n",
      " |-- city: string (nullable = true)\n",
      " |-- infection_case: string (nullable = true)\n",
      " |-- infected_by: string (nullable = true)\n",
      " |-- contact_number: string (nullable = true)\n",
      " |-- symptom_onset_date: string (nullable = true)\n",
      " |-- confirmed_date: date (nullable = true)\n",
      " |-- released_date: date (nullable = true)\n",
      " |-- deceased_date: date (nullable = true)\n",
      " |-- state: string (nullable = true)\n",
      " |-- no_days: double (nullable = true)\n",
      " |-- is_male: boolean (nullable = false)\n",
      " |-- is_dead: boolean (nullable = false)\n",
      "\n"
     ]
    }
   ],
   "source": [
    "types_changed_df = suffix_adj_df.withColumn('age', col('age').cast(DoubleType())) \\\n",
    "                                .withColumn('no_days', col('no_days').cast(DoubleType()))\n",
    "types_changed_df.printSchema()"
   ]
  },
  {
   "cell_type": "markdown",
   "id": "d31e3a87",
   "metadata": {},
   "source": [
    "### Drop the columns\n",
    "[\"patient_id\",\"sex\",\"infected_by\",\"contact_number\",\"released_date\",\"state\",\n",
    "\"symptom_onset_date\",\"confirmed_date\",\"deceased_date\",\"country\",\"no_days\",\n",
    "\"city\",\"infection_case\"]"
   ]
  },
  {
   "cell_type": "code",
   "execution_count": 325,
   "id": "3ae0c428",
   "metadata": {},
   "outputs": [
    {
     "name": "stdout",
     "output_type": "stream",
     "text": [
      "root\n",
      " |-- age: double (nullable = true)\n",
      " |-- province: string (nullable = true)\n",
      " |-- is_male: boolean (nullable = false)\n",
      " |-- is_dead: boolean (nullable = false)\n",
      "\n"
     ]
    }
   ],
   "source": [
    "drop_columns = [\"patient_id\",\"sex\",\"infected_by\",\"contact_number\",\"released_date\",\"state\", \"symptom_onset_date\",\"confirmed_date\",\"deceased_date\",\"country\",\"no_days\", \"city\",\"infection_case\"]\n",
    "df_drop_cols = types_changed_df.drop(*drop_columns)\n",
    "df_drop_cols.printSchema()"
   ]
  },
  {
   "cell_type": "markdown",
   "id": "32df47a6",
   "metadata": {},
   "source": [
    "### Recount the number of nulls now"
   ]
  },
  {
   "cell_type": "code",
   "execution_count": 326,
   "id": "6d66eaa7",
   "metadata": {},
   "outputs": [
    {
     "name": "stdout",
     "output_type": "stream",
     "text": [
      "+---+--------+-------+-------+\n",
      "|age|province|is_male|is_dead|\n",
      "+---+--------+-------+-------+\n",
      "|261|       0|      0|      0|\n",
      "+---+--------+-------+-------+\n",
      "\n"
     ]
    }
   ],
   "source": [
    "df_drop_cols.select([fn.count(when(col(x).isNull(), x)).alias(x) for x in df_drop_cols.columns]).show()"
   ]
  },
  {
   "cell_type": "markdown",
   "id": "cc71f158",
   "metadata": {},
   "source": [
    "## Now do the same but using SQL select statement"
   ]
  },
  {
   "cell_type": "markdown",
   "id": "1d540282",
   "metadata": {},
   "source": [
    "### From the original Patient DataFrame, Create a temporary view (table)."
   ]
  },
  {
   "cell_type": "code",
   "execution_count": 213,
   "id": "cf56099f",
   "metadata": {},
   "outputs": [],
   "source": [
    "df.createOrReplaceTempView(\"patient\")"
   ]
  },
  {
   "cell_type": "markdown",
   "id": "cb004277",
   "metadata": {},
   "source": [
    "### Use SELECT statement to select all columns from the dataframe and show the output."
   ]
  },
  {
   "cell_type": "code",
   "execution_count": 214,
   "id": "12ae8226",
   "metadata": {},
   "outputs": [
    {
     "name": "stdout",
     "output_type": "stream",
     "text": [
      "+----------+------+---+-------+--------+------------+--------------------+-----------+--------------+------------------+--------------+-------------+-------------+--------+\n",
      "|patient_id|   sex|age|country|province|        city|      infection_case|infected_by|contact_number|symptom_onset_date|confirmed_date|released_date|deceased_date|   state|\n",
      "+----------+------+---+-------+--------+------------+--------------------+-----------+--------------+------------------+--------------+-------------+-------------+--------+\n",
      "|1000000001|  male|50s|  Korea|   Seoul|  Gangseo-gu|     overseas inflow|       NULL|            75|        2020-01-22|    2020-01-23|   2020-02-05|         NULL|released|\n",
      "|1000000002|  male|30s|  Korea|   Seoul| Jungnang-gu|     overseas inflow|       NULL|            31|              NULL|    2020-01-30|   2020-03-02|         NULL|released|\n",
      "|1000000003|  male|50s|  Korea|   Seoul|   Jongno-gu|contact with patient| 2002000001|            17|              NULL|    2020-01-30|   2020-02-19|         NULL|released|\n",
      "|1000000004|  male|20s|  Korea|   Seoul|     Mapo-gu|     overseas inflow|       NULL|             9|        2020-01-26|    2020-01-30|   2020-02-15|         NULL|released|\n",
      "|1000000005|female|20s|  Korea|   Seoul| Seongbuk-gu|contact with patient| 1000000002|             2|              NULL|    2020-01-31|   2020-02-24|         NULL|released|\n",
      "|1000000006|female|50s|  Korea|   Seoul|   Jongno-gu|contact with patient| 1000000003|            43|              NULL|    2020-01-31|   2020-02-19|         NULL|released|\n",
      "|1000000007|  male|20s|  Korea|   Seoul|   Jongno-gu|contact with patient| 1000000003|             0|              NULL|    2020-01-31|   2020-02-10|         NULL|released|\n",
      "|1000000008|  male|20s|  Korea|   Seoul|         etc|     overseas inflow|       NULL|             0|              NULL|    2020-02-02|   2020-02-24|         NULL|released|\n",
      "|1000000009|  male|30s|  Korea|   Seoul|   Songpa-gu|     overseas inflow|       NULL|            68|              NULL|    2020-02-05|   2020-02-21|         NULL|released|\n",
      "|1000000010|female|60s|  Korea|   Seoul| Seongbuk-gu|contact with patient| 1000000003|             6|              NULL|    2020-02-05|   2020-02-29|         NULL|released|\n",
      "|1000000011|female|50s|  China|   Seoul|Seodaemun-gu|     overseas inflow|       NULL|            23|              NULL|    2020-02-06|   2020-02-29|         NULL|released|\n",
      "|1000000012|  male|20s|  Korea|   Seoul|         etc|     overseas inflow|       NULL|             0|              NULL|    2020-02-07|   2020-02-27|         NULL|released|\n",
      "|1000000013|  male|80s|  Korea|   Seoul|   Jongno-gu|contact with patient| 1000000017|           117|              NULL|    2020-02-16|         NULL|         NULL|deceased|\n",
      "|1000000014|female|60s|  Korea|   Seoul|   Jongno-gu|contact with patient| 1000000013|            27|        2020-02-06|    2020-02-16|   2020-03-12|         NULL|released|\n",
      "|1000000015|  male|70s|  Korea|   Seoul|Seongdong-gu|    Seongdong-gu APT|       NULL|             8|        2020-02-11|    2020-02-19|         NULL|         NULL|released|\n",
      "|1000000016|  male|70s|  Korea|   Seoul|   Jongno-gu|contact with patient| 1000000017|          NULL|              NULL|    2020-02-19|   2020-03-11|         NULL|released|\n",
      "|1000000017|  male|70s|  Korea|   Seoul|   Jongno-gu|contact with patient| 1000000003|          NULL|              NULL|    2020-02-20|   2020-03-01|         NULL|released|\n",
      "|1000000018|  male|20s|  Korea|   Seoul|         etc|                 etc|       NULL|          NULL|              NULL|    2020-02-20|         NULL|         NULL|released|\n",
      "|1000000019|female|70s|  Korea|   Seoul|   Jongno-gu|contact with patient| 1000000021|          NULL|              NULL|    2020-02-20|   2020-03-08|         NULL|released|\n",
      "|1000000020|female|70s|  Korea|   Seoul|Seongdong-gu|    Seongdong-gu APT| 1000000015|          NULL|              NULL|    2020-02-20|         NULL|         NULL|released|\n",
      "+----------+------+---+-------+--------+------------+--------------------+-----------+--------------+------------------+--------------+-------------+-------------+--------+\n",
      "only showing top 20 rows\n",
      "\n"
     ]
    }
   ],
   "source": [
    "spark.sql(\"\"\"SELECT *\n",
    "            from patient\n",
    "          \"\"\").show()"
   ]
  },
  {
   "cell_type": "markdown",
   "id": "e0da4318",
   "metadata": {},
   "source": [
    "### *Using SQL commands*, limit the output to only 5 rows "
   ]
  },
  {
   "cell_type": "code",
   "execution_count": 215,
   "id": "97911bdd",
   "metadata": {},
   "outputs": [
    {
     "name": "stdout",
     "output_type": "stream",
     "text": [
      "+----------+------+---+-------+--------+-----------+--------------------+-----------+--------------+------------------+--------------+-------------+-------------+--------+\n",
      "|patient_id|   sex|age|country|province|       city|      infection_case|infected_by|contact_number|symptom_onset_date|confirmed_date|released_date|deceased_date|   state|\n",
      "+----------+------+---+-------+--------+-----------+--------------------+-----------+--------------+------------------+--------------+-------------+-------------+--------+\n",
      "|1000000001|  male|50s|  Korea|   Seoul| Gangseo-gu|     overseas inflow|       NULL|            75|        2020-01-22|    2020-01-23|   2020-02-05|         NULL|released|\n",
      "|1000000002|  male|30s|  Korea|   Seoul|Jungnang-gu|     overseas inflow|       NULL|            31|              NULL|    2020-01-30|   2020-03-02|         NULL|released|\n",
      "|1000000003|  male|50s|  Korea|   Seoul|  Jongno-gu|contact with patient| 2002000001|            17|              NULL|    2020-01-30|   2020-02-19|         NULL|released|\n",
      "|1000000004|  male|20s|  Korea|   Seoul|    Mapo-gu|     overseas inflow|       NULL|             9|        2020-01-26|    2020-01-30|   2020-02-15|         NULL|released|\n",
      "|1000000005|female|20s|  Korea|   Seoul|Seongbuk-gu|contact with patient| 1000000002|             2|              NULL|    2020-01-31|   2020-02-24|         NULL|released|\n",
      "+----------+------+---+-------+--------+-----------+--------------------+-----------+--------------+------------------+--------------+-------------+-------------+--------+\n",
      "\n"
     ]
    }
   ],
   "source": [
    "spark.sql(\"\"\"SELECT *\n",
    "            from patient\n",
    "            limit 5\n",
    "          \"\"\").show()"
   ]
  },
  {
   "cell_type": "markdown",
   "id": "b70edf17",
   "metadata": {},
   "source": [
    "### Select the count of males and females in the dataset"
   ]
  },
  {
   "cell_type": "code",
   "execution_count": 216,
   "id": "00e9fd65",
   "metadata": {},
   "outputs": [
    {
     "name": "stdout",
     "output_type": "stream",
     "text": [
      "+------+------------+\n",
      "|   sex|gender_count|\n",
      "+------+------------+\n",
      "|female|        2218|\n",
      "|  male|        1825|\n",
      "+------+------------+\n",
      "\n"
     ]
    }
   ],
   "source": [
    "spark.sql(\"\"\"SELECT sex,count(sex) gender_count\n",
    "            from patient\n",
    "            where sex is not null\n",
    "            group by sex\n",
    "          \"\"\").show()"
   ]
  },
  {
   "cell_type": "markdown",
   "id": "73683674",
   "metadata": {},
   "source": [
    "### How many people did survive, and how many didn't?"
   ]
  },
  {
   "cell_type": "code",
   "execution_count": 267,
   "id": "1e5a3908",
   "metadata": {},
   "outputs": [
    {
     "name": "stdout",
     "output_type": "stream",
     "text": [
      "+--------+--------------+\n",
      "|   state|survival_count|\n",
      "+--------+--------------+\n",
      "|isolated|          2158|\n",
      "|released|          2929|\n",
      "|deceased|            78|\n",
      "+--------+--------------+\n",
      "\n"
     ]
    }
   ],
   "source": [
    " spark.sql(\"\"\"SELECT state,count(state) survival_count\n",
    "            from patient\n",
    "            where state is not null\n",
    "            group by state\n",
    "          \"\"\").show()"
   ]
  },
  {
   "cell_type": "markdown",
   "id": "d4424228",
   "metadata": {},
   "source": [
    "### Now, let's perform some preprocessing using SQL:\n",
    "1. Convert *age* column to double after removing the 's' at the end -- *hint: check SUBSTRING method*\n",
    "2. Select only the following columns: `['sex', 'age', 'province', 'state']`\n",
    "3. Store the result of the query in a new dataframe"
   ]
  },
  {
   "cell_type": "code",
   "execution_count": 270,
   "id": "16994e4d",
   "metadata": {},
   "outputs": [
    {
     "name": "stdout",
     "output_type": "stream",
     "text": [
      "+------+---+--------+--------+-----------+\n",
      "|   sex|age|province|   state|age_trimmed|\n",
      "+------+---+--------+--------+-----------+\n",
      "|  male|50s|   Seoul|released|         50|\n",
      "|  male|30s|   Seoul|released|         30|\n",
      "|  male|50s|   Seoul|released|         50|\n",
      "|  male|20s|   Seoul|released|         20|\n",
      "|female|20s|   Seoul|released|         20|\n",
      "|female|50s|   Seoul|released|         50|\n",
      "|  male|20s|   Seoul|released|         20|\n",
      "|  male|20s|   Seoul|released|         20|\n",
      "|  male|30s|   Seoul|released|         30|\n",
      "|female|60s|   Seoul|released|         60|\n",
      "|female|50s|   Seoul|released|         50|\n",
      "|  male|20s|   Seoul|released|         20|\n",
      "|  male|80s|   Seoul|deceased|         80|\n",
      "|female|60s|   Seoul|released|         60|\n",
      "|  male|70s|   Seoul|released|         70|\n",
      "|  male|70s|   Seoul|released|         70|\n",
      "|  male|70s|   Seoul|released|         70|\n",
      "|  male|20s|   Seoul|released|         20|\n",
      "|female|70s|   Seoul|released|         70|\n",
      "|female|70s|   Seoul|released|         70|\n",
      "+------+---+--------+--------+-----------+\n",
      "only showing top 20 rows\n",
      "\n"
     ]
    }
   ],
   "source": [
    "df_sql_write = spark.sql(\"\"\"SELECT sex, age, province, state, substring(age,1,len(age)-1) as age_trimmed\n",
    "            from patient\n",
    "          \"\"\")\n",
    "df_sql_write.write.csv('Mycsv',mode='overwrite')\n",
    "df_sql_write.show()"
   ]
  },
  {
   "cell_type": "markdown",
   "id": "d4a24c24",
   "metadata": {},
   "source": [
    "## Machine Learning \n",
    "### Create a pipeline model to predict is_dead and evaluate the performance.\n",
    "- Use <b>StringIndexer</b> to transform <b>string</b> data type to indices.\n",
    "- Use <b>OneHotEncoder</b> to deal with categorical values.\n",
    "- Use <b>Imputer</b> to fill missing data with mean."
   ]
  },
  {
   "cell_type": "code",
   "execution_count": 336,
   "id": "27890b26-8ee7-49c9-997d-0326fbe9c63a",
   "metadata": {},
   "outputs": [
    {
     "name": "stdout",
     "output_type": "stream",
     "text": [
      "root\n",
      " |-- age: double (nullable = true)\n",
      " |-- province: string (nullable = true)\n",
      " |-- is_male: double (nullable = false)\n",
      " |-- is_dead: double (nullable = false)\n",
      "\n"
     ]
    }
   ],
   "source": [
    "df_drop_cols.printSchema()"
   ]
  },
  {
   "cell_type": "code",
   "execution_count": 354,
   "id": "8cfb0e75-1f61-4c83-a6c0-9dbec36bd457",
   "metadata": {},
   "outputs": [],
   "source": [
    "from pyspark.ml.feature import Imputer\n",
    "from pyspark.ml.feature import VectorAssembler,StringIndexer,OneHotEncoder\n",
    "from pyspark.ml.classification import LogisticRegression\n",
    "from pyspark.ml.evaluation import BinaryClassificationEvaluator\n",
    "from pyspark.ml.evaluation import MulticlassClassificationEvaluator\n",
    "from pyspark.ml import Pipeline"
   ]
  },
  {
   "cell_type": "code",
   "execution_count": 335,
   "id": "1c59b535-13c1-46de-abd2-e2813dfe7472",
   "metadata": {},
   "outputs": [],
   "source": [
    "df_drop_cols = df_drop_cols.withColumn('is_dead', col('is_dead').cast(DoubleType())) \\\n",
    "                           .withColumn('is_male', col('is_male').cast(DoubleType()))"
   ]
  },
  {
   "cell_type": "code",
   "execution_count": 337,
   "id": "1f34e98a-15a4-45b0-8c7b-dfdc37a9ac0f",
   "metadata": {},
   "outputs": [
    {
     "name": "stdout",
     "output_type": "stream",
     "text": [
      "+----+--------+-------+-------+\n",
      "| age|province|is_male|is_dead|\n",
      "+----+--------+-------+-------+\n",
      "|50.0|   Seoul|    1.0|    1.0|\n",
      "|30.0|   Seoul|    1.0|    1.0|\n",
      "|50.0|   Seoul|    1.0|    1.0|\n",
      "|20.0|   Seoul|    1.0|    1.0|\n",
      "|20.0|   Seoul|    0.0|    1.0|\n",
      "|50.0|   Seoul|    0.0|    1.0|\n",
      "|20.0|   Seoul|    1.0|    1.0|\n",
      "|20.0|   Seoul|    1.0|    1.0|\n",
      "|30.0|   Seoul|    1.0|    1.0|\n",
      "|60.0|   Seoul|    0.0|    1.0|\n",
      "|50.0|   Seoul|    0.0|    1.0|\n",
      "|20.0|   Seoul|    1.0|    1.0|\n",
      "|80.0|   Seoul|    1.0|    0.0|\n",
      "|60.0|   Seoul|    0.0|    1.0|\n",
      "|70.0|   Seoul|    1.0|    1.0|\n",
      "|70.0|   Seoul|    1.0|    1.0|\n",
      "|70.0|   Seoul|    1.0|    1.0|\n",
      "|20.0|   Seoul|    1.0|    1.0|\n",
      "|70.0|   Seoul|    0.0|    1.0|\n",
      "|70.0|   Seoul|    0.0|    1.0|\n",
      "+----+--------+-------+-------+\n",
      "only showing top 20 rows\n",
      "\n"
     ]
    }
   ],
   "source": [
    "df_drop_cols.show()"
   ]
  },
  {
   "cell_type": "code",
   "execution_count": 333,
   "id": "4c0d93d7-4321-434b-93fc-4321af887b7b",
   "metadata": {},
   "outputs": [
    {
     "data": {
      "text/plain": [
       "Imputer_935369b1f57e"
      ]
     },
     "execution_count": 333,
     "metadata": {},
     "output_type": "execute_result"
    }
   ],
   "source": [
    "imputer = Imputer(inputCols=['age'], outputCols=['age_imputed'])\n",
    "imputer.setStrategy(\"mean\")"
   ]
  },
  {
   "cell_type": "code",
   "execution_count": 338,
   "id": "647a0688-353c-4084-b65c-1a3ac19f59f5",
   "metadata": {},
   "outputs": [
    {
     "name": "stdout",
     "output_type": "stream",
     "text": [
      "+---+--------+-------+-------+\n",
      "|age|province|is_male|is_dead|\n",
      "+---+--------+-------+-------+\n",
      "|261|       0|      0|      0|\n",
      "+---+--------+-------+-------+\n",
      "\n"
     ]
    }
   ],
   "source": [
    "df_drop_cols.select([fn.count(when(col(x).isNull(), x)).alias(x) for x in df_drop_cols.columns]).show()"
   ]
  },
  {
   "cell_type": "code",
   "execution_count": 365,
   "id": "7a71806f",
   "metadata": {},
   "outputs": [],
   "source": [
    "col_types = df_impute.dtypes\n",
    "string_cols = [k for k, v in col_types if ((v == 'string') & (k != 'is_dead'))]  \n",
    "string_cols_out = [k + '_Index' for k in string_cols]\n",
    "OHE_cols_out = [k + '_OHE' for k in string_cols]\n",
    "all_cols = OHE_cols_out +['age_imputed']"
   ]
  },
  {
   "cell_type": "code",
   "execution_count": 366,
   "id": "5681fe69-6ed1-4072-911c-85bb27dc7407",
   "metadata": {},
   "outputs": [],
   "source": [
    "StrInd = StringIndexer(inputCols=string_cols, outputCols=string_cols_out)\n",
    "OHE = OneHotEncoder(inputCols=string_cols_out, outputCols=OHE_cols_out)\n",
    "vecAssemb = VectorAssembler(inputCols=all_cols, outputCol='features')"
   ]
  },
  {
   "cell_type": "code",
   "execution_count": 359,
   "id": "9c777e97-7ddc-497f-a7ee-d40f154c110e",
   "metadata": {},
   "outputs": [
    {
     "data": {
      "text/plain": [
       "['province_OHE', 'is_male_OHE', 'age_imputed']"
      ]
     },
     "execution_count": 359,
     "metadata": {},
     "output_type": "execute_result"
    }
   ],
   "source": [
    "all_cols"
   ]
  },
  {
   "cell_type": "code",
   "execution_count": 368,
   "id": "851454aa-b3b7-4124-8eaf-c5a087c9ed85",
   "metadata": {},
   "outputs": [],
   "source": [
    "df_train, df_test = df_drop_cols.randomSplit([0.8,0.2],seed=42)"
   ]
  },
  {
   "cell_type": "code",
   "execution_count": 369,
   "id": "bcd3113b-d074-4354-b00d-b0382ec01746",
   "metadata": {},
   "outputs": [],
   "source": [
    "lr = LogisticRegression(featuresCol='features', labelCol='is_dead', predictionCol='prediction')"
   ]
  },
  {
   "cell_type": "code",
   "execution_count": 370,
   "id": "00e70e2d-3310-4ad9-8bfd-f31b7372adae",
   "metadata": {},
   "outputs": [],
   "source": [
    "stages = [imputer, label_indexer, StrInd, OHE, vecAssemb, lr]\n",
    "pl = Pipeline(stages=stages)"
   ]
  },
  {
   "cell_type": "code",
   "execution_count": 371,
   "id": "ea241cff-0788-4309-adb0-96eda0ace8cc",
   "metadata": {},
   "outputs": [
    {
     "name": "stderr",
     "output_type": "stream",
     "text": [
      "                                                                                \r"
     ]
    }
   ],
   "source": [
    "pl_Model = pl.fit(df_train)"
   ]
  },
  {
   "cell_type": "code",
   "execution_count": 372,
   "id": "0e0874ee-875d-4a79-a74c-996b6f5e17f2",
   "metadata": {},
   "outputs": [],
   "source": [
    "pred_test = pl_Model.transform(df_test)"
   ]
  },
  {
   "cell_type": "code",
   "execution_count": 373,
   "id": "c0a21a2e-9b99-478e-85a6-d1800388011d",
   "metadata": {},
   "outputs": [],
   "source": [
    "ac = MulticlassClassificationEvaluator(labelCol='is_dead', metricName='accuracy')"
   ]
  },
  {
   "cell_type": "code",
   "execution_count": 374,
   "id": "2805556f-26b8-485c-8d35-82c54900ee10",
   "metadata": {},
   "outputs": [
    {
     "name": "stderr",
     "output_type": "stream",
     "text": [
      "                                                                                \r"
     ]
    },
    {
     "data": {
      "text/plain": [
       "0.8773333333333333"
      ]
     },
     "execution_count": 374,
     "metadata": {},
     "output_type": "execute_result"
    }
   ],
   "source": [
    "ac.evaluate(pred_test)"
   ]
  },
  {
   "cell_type": "code",
   "execution_count": null,
   "id": "f363b262-d8c7-4be9-8f17-b7cca3fae12b",
   "metadata": {},
   "outputs": [],
   "source": []
  }
 ],
 "metadata": {
  "kernelspec": {
   "display_name": "Python 3 (ipykernel)",
   "language": "python",
   "name": "python3"
  },
  "language_info": {
   "codemirror_mode": {
    "name": "ipython",
    "version": 3
   },
   "file_extension": ".py",
   "mimetype": "text/x-python",
   "name": "python",
   "nbconvert_exporter": "python",
   "pygments_lexer": "ipython3",
   "version": "3.11.7"
  }
 },
 "nbformat": 4,
 "nbformat_minor": 5
}
